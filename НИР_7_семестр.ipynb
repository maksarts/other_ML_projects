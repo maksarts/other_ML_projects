{
  "nbformat": 4,
  "nbformat_minor": 0,
  "metadata": {
    "colab": {
      "name": "НИР 7 семестр.ipynb",
      "provenance": [],
      "collapsed_sections": [],
      "toc_visible": true,
      "authorship_tag": "ABX9TyPwQHyBqXiLw7/t4/0RUVF6",
      "include_colab_link": true
    },
    "kernelspec": {
      "name": "python3",
      "display_name": "Python 3"
    },
    "language_info": {
      "name": "python"
    },
    "accelerator": "GPU"
  },
  "cells": [
    {
      "cell_type": "markdown",
      "metadata": {
        "id": "view-in-github",
        "colab_type": "text"
      },
      "source": [
        "<a href=\"https://colab.research.google.com/github/maksarts/other_ML_projects/blob/main/%D0%9D%D0%98%D0%A0_7_%D1%81%D0%B5%D0%BC%D0%B5%D1%81%D1%82%D1%80.ipynb\" target=\"_parent\"><img src=\"https://colab.research.google.com/assets/colab-badge.svg\" alt=\"Open In Colab\"/></a>"
      ]
    },
    {
      "cell_type": "markdown",
      "source": [
        "# Импорты, загрузка датасета и начальные константы"
      ],
      "metadata": {
        "id": "ynMp3sYz6buZ"
      }
    },
    {
      "cell_type": "code",
      "execution_count": null,
      "metadata": {
        "id": "pJxLnRCQ5xYl"
      },
      "outputs": [],
      "source": [
        "import numpy as np\n",
        "import torch\n",
        "import torchvision\n",
        "import matplotlib.pyplot as plt\n",
        "from time import time\n",
        "from torchvision import datasets, transforms\n",
        "from torch import nn, optim\n",
        "import pandas as pd\n",
        "import torch.nn.functional as F"
      ]
    },
    {
      "cell_type": "code",
      "source": [
        "transform = transforms.Compose(\n",
        "    [transforms.ToTensor(),\n",
        "     transforms.Normalize((0.5, 0.5, 0.5), (0.5, 0.5, 0.5))])\n",
        "\n",
        "batch_size = 4\n",
        "\n",
        "trainset = datasets.CIFAR10(root='./data', train=True,\n",
        "                                        download=True, transform=transform)\n",
        "trainloader = torch.utils.data.DataLoader(trainset, batch_size=batch_size,\n",
        "                                          shuffle=True, num_workers=2)\n",
        "\n",
        "valset = datasets.CIFAR10(root='./data', train=False,\n",
        "                                       download=True, transform=transform)\n",
        "valloader = torch.utils.data.DataLoader(valset, batch_size=batch_size,\n",
        "                                         shuffle=False, num_workers=2)\n",
        "\n",
        "classes = ('plane', 'car', 'bird', 'cat',\n",
        "           'deer', 'dog', 'frog', 'horse', 'ship', 'truck')"
      ],
      "metadata": {
        "colab": {
          "base_uri": "https://localhost:8080/"
        },
        "id": "eFNT5jy655T1",
        "outputId": "b6722bb4-9286-41a1-c4a9-b2a9d50132e3"
      },
      "execution_count": null,
      "outputs": [
        {
          "output_type": "stream",
          "name": "stdout",
          "text": [
            "Files already downloaded and verified\n",
            "Files already downloaded and verified\n"
          ]
        }
      ]
    },
    {
      "cell_type": "code",
      "source": [
        "def imshow(img):\n",
        "    plt.figure(figsize=(10, 6))\n",
        "    img = img / 2 + 0.5     # нормализация\n",
        "    npimg = img.numpy()\n",
        "    plt.imshow(np.transpose(npimg, (1, 2, 0)))\n",
        "    plt.show()"
      ],
      "metadata": {
        "id": "GOjFW9O76ylk"
      },
      "execution_count": null,
      "outputs": []
    },
    {
      "cell_type": "code",
      "source": [
        "dataiter = iter(trainloader)\n",
        "images, labels = dataiter.next()\n",
        "print(images.shape)\n",
        "\n",
        "# выводим картинки\n",
        "imshow(torchvision.utils.make_grid(images))\n",
        "# выводим метки\n",
        "print('\\t'.join('%5s' % classes[labels[j]] for j in range(batch_size)))"
      ],
      "metadata": {
        "colab": {
          "base_uri": "https://localhost:8080/",
          "height": 231
        },
        "id": "b3089PUh68Tl",
        "outputId": "27548279-1409-4511-fbd4-825b9a9892d3"
      },
      "execution_count": null,
      "outputs": [
        {
          "output_type": "stream",
          "name": "stdout",
          "text": [
            "torch.Size([4, 3, 32, 32])\n"
          ]
        },
        {
          "output_type": "display_data",
          "data": {
            "image/png": "[encoded data removed]",
            "text/plain": [
              "<Figure size 720x432 with 1 Axes>"
            ]
          },
          "metadata": {
            "needs_background": "light"
          }
        },
        {
          "output_type": "stream",
          "name": "stdout",
          "text": [
            "truck\t frog\t ship\t  car\n"
          ]
        }
      ]
    },
    {
      "cell_type": "code",
      "source": [
        "device = torch.device(\"cuda:0\" if torch.cuda.is_available() else \"cpu\")\n",
        "print(device)"
      ],
      "metadata": {
        "colab": {
          "base_uri": "https://localhost:8080/"
        },
        "id": "3N8s3bXS0Ydg",
        "outputId": "1f008d67-f207-4d32-8b6e-38138628091e"
      },
      "execution_count": null,
      "outputs": [
        {
          "output_type": "stream",
          "name": "stdout",
          "text": [
            "cuda:0\n"
          ]
        }
      ]
    },
    {
      "cell_type": "markdown",
      "source": [
        "# Функции"
      ],
      "metadata": {
        "id": "NjetUUHYvGyh"
      }
    },
    {
      "cell_type": "code",
      "source": [
        "def StartTraining(net, trainloader, valloader, optimizer, criterion, epochs = 5):  \n",
        "  losses = []\n",
        "  x = []\n",
        "  x2 = []\n",
        "  vallosses = []\n",
        "  j = 0\n",
        "  k = 0\n",
        "\n",
        "  for epoch in range(epochs): \n",
        "\n",
        "      running_loss = 0.0\n",
        "      pltloss = 0.0\n",
        "\n",
        "      for i, data in enumerate(trainloader, 0):\n",
        "          # get the inputs; data is a list of [inputs, labels]\n",
        "          #inputs, labels = data\n",
        "          inputs, labels = data[0].to(device), data[1].to(device)\n",
        "\n",
        "          # zero the parameter gradients\n",
        "          optimizer.zero_grad()\n",
        "\n",
        "          # forward + backward + optimize\n",
        "          outputs = net(inputs)\n",
        "          loss = criterion(outputs, labels)\n",
        "          loss.backward()\n",
        "          optimizer.step()\n",
        "\n",
        "          #statistics\n",
        "          running_loss += loss.item()          \n",
        "          if i % 2000 == 1999:    # print every 2000 mini-batches\n",
        "              print(f'[{epoch + 1}, {i + 1}] loss: {\"%.3f\" % (running_loss / 2000)}')\n",
        "              j += 2000\n",
        "              losses.append(running_loss / 2000)\n",
        "              x.append(j)\n",
        "              running_loss = 0.0\n",
        "\n",
        "      with torch.no_grad():\n",
        "        total = 0\n",
        "        correct = 0\n",
        "        val = []\n",
        "        for data in valloader:\n",
        "          images, labels = data[0].to(device), data[1].to(device)\n",
        "          outputs = net(images)\n",
        "          val_loss = criterion(outputs, labels)\n",
        "          val.append(val_loss.item())\n",
        "          \n",
        "          # the class with the highest energy is what we choose as prediction\n",
        "          _, predicted = torch.max(outputs.data, 1)\n",
        "          total += labels.size(0)\n",
        "          correct += (predicted == labels).sum().item()\n",
        "\n",
        "        print(f'[{epoch + 1} epoch] val_loss: {\"%.3f\" % (np.mean(val))} acc: {correct/total*100}%')\n",
        "        k += 12000\n",
        "        vallosses.append(np.mean(val))\n",
        "        x2.append(k)\n",
        "\n",
        "  plt.plot(x, losses, label=\"loss\")\n",
        "  plt.plot(x2, vallosses, label=\"val_loss\")\n",
        "  plt.legend()\n",
        "  plt.show()"
      ],
      "metadata": {
        "id": "rtiIDRtkvJLO"
      },
      "execution_count": null,
      "outputs": []
    },
    {
      "cell_type": "markdown",
      "source": [
        "# Создание модели"
      ],
      "metadata": {
        "id": "IcBY9js6GnYy"
      }
    },
    {
      "cell_type": "code",
      "source": [
        "class MyNet(nn.Module): \n",
        "     def __init__(self): \n",
        "         super(MyNet, self).__init__() \n",
        "         self.layer1 = nn.Sequential( nn.Conv2d(3, 6, kernel_size=5, stride=1, padding=2), # входная картинка 32 х 32\n",
        "                                      nn.BatchNorm2d(6),\n",
        "                                      nn.ReLU(), \n",
        "                                      nn.MaxPool2d(kernel_size=2, stride=2)\n",
        "                                    ) \n",
        "         self.layer2 = nn.Sequential( nn.Conv2d(6, 16, kernel_size=3, stride=1, padding=1), # 16 х 16\n",
        "                                      nn.BatchNorm2d(16),\n",
        "                                      nn.ReLU(), \n",
        "                                      nn.MaxPool2d(kernel_size=2, stride=2)\n",
        "                                    ) \n",
        "         self.layer3 = nn.Sequential( nn.Conv2d(16, 64, kernel_size=5, stride=1, padding=2), # 8 х 8\n",
        "                                      nn.BatchNorm2d(64),\n",
        "                                      nn.ReLU(), \n",
        "                                      nn.MaxPool2d(kernel_size=2, stride=2)\n",
        "                                    ) \n",
        "         #self.drop_out = nn.Dropout(0.1) \n",
        "         self.fc1 = nn.Linear(64 * 4 * 4, 120) # 4 х 4\n",
        "         self.fc2 = nn.Linear(120, 60) \n",
        "         self.fc3 = nn.Linear(60, 10)\n",
        "\n",
        "     def forward(self, x): \n",
        "      out = self.layer1(x) \n",
        "      out = self.layer2(out)\n",
        "      out = self.layer3(out) \n",
        "      out = torch.flatten(out, 1)\n",
        "      #out = self.drop_out(out) \n",
        "      out = F.relu(self.fc1(out))\n",
        "      out = F.relu(self.fc2(out)) \n",
        "      out = self.fc3(out) \n",
        "      return out\n",
        "\n",
        "net = MyNet()\n",
        "net.to(device)"
      ],
      "metadata": {
        "colab": {
          "base_uri": "https://localhost:8080/"
        },
        "id": "DyC-rKaV7HVP",
        "outputId": "15d45b53-c4f0-45fe-c360-d810a8b653fb"
      },
      "execution_count": null,
      "outputs": [
        {
          "output_type": "execute_result",
          "data": {
            "text/plain": [
              "MyNet(\n",
              "  (layer1): Sequential(\n",
              "    (0): Conv2d(3, 6, kernel_size=(5, 5), stride=(1, 1), padding=(2, 2))\n",
              "    (1): BatchNorm2d(6, eps=1e-05, momentum=0.1, affine=True, track_running_stats=True)\n",
              "    (2): ReLU()\n",
              "    (3): MaxPool2d(kernel_size=2, stride=2, padding=0, dilation=1, ceil_mode=False)\n",
              "  )\n",
              "  (layer2): Sequential(\n",
              "    (0): Conv2d(6, 16, kernel_size=(3, 3), stride=(1, 1), padding=(1, 1))\n",
              "    (1): BatchNorm2d(16, eps=1e-05, momentum=0.1, affine=True, track_running_stats=True)\n",
              "    (2): ReLU()\n",
              "    (3): MaxPool2d(kernel_size=2, stride=2, padding=0, dilation=1, ceil_mode=False)\n",
              "  )\n",
              "  (layer3): Sequential(\n",
              "    (0): Conv2d(16, 64, kernel_size=(5, 5), stride=(1, 1), padding=(2, 2))\n",
              "    (1): BatchNorm2d(64, eps=1e-05, momentum=0.1, affine=True, track_running_stats=True)\n",
              "    (2): ReLU()\n",
              "    (3): MaxPool2d(kernel_size=2, stride=2, padding=0, dilation=1, ceil_mode=False)\n",
              "  )\n",
              "  (fc1): Linear(in_features=1024, out_features=120, bias=True)\n",
              "  (fc2): Linear(in_features=120, out_features=60, bias=True)\n",
              "  (fc3): Linear(in_features=60, out_features=10, bias=True)\n",
              ")"
            ]
          },
          "metadata": {},
          "execution_count": 14
        }
      ]
    },
    {
      "cell_type": "markdown",
      "source": [
        "![image.png](data:image/png;base64,iVBORw0KGgoAAAANSUhEUgAAATsAAABmCAYAAAC0uzZaAAAAAXNSR0IArs4c6QAAAARnQU1BAACxjwv8YQUAAAAJcEhZcwAADsMAAA7DAcdvqGQAACB9SURBVHhe7d0JfFTlvf/xT2bNzGSd7HsCCYEkhCVACPsiiGgRW3Gp1va217b2etur7W177Wq323stt9Wq1b/WVsVaEXdBMeyyrzFAQhKy7/s6k8z6/J+B2AJaBYkEOs+b13nBnDMzzJwz53t+zznPOSdASCiKovyT0wz/rSiK8k9NhZ2iKH5BhZ2iKH5BhZ2iKH5BhZ2iKH5BhZ2iKH5BhZ2iKH5BhZ2iKH5BhZ2iKH5BhZ2iKH5BhZ2iKH5BhZ2iKH5BhZ2iKH5BhZ2iKH5BhZ2iKH5BhZ2iKH5BhZ2iKH5BhZ2iKH5BhZ2iKH5BhZ2iKH5BhZ2iKH5BhZ2iKH5Bhd1lxYV7qJkTG1+n+GQTLYPDo5V/ep6uE5SWFLGxuJ0h+Vjd33TkqfvGXjacDPbWUH98Kzu39RGzeCU52QlYHa1UldTSbeuhb8iDW2NGHxRJeFQ82ZmhuJpraG5opKV7gAFngNx8hRASFEFcWgKJqeGEeDqpOVRKVUcfvU7QGSwERcQwNiuDmOBATNrh//6SGmSgrZWmsnraHP102Ry4vIEEmkzys/99++sesjE0aMfuNoJxLFPzU4iLMBM4PP3TJ1cNTx+NNdW0tnTQbfdgI5jEseNJiwshzKRDzvGzObrp6WiiuKoDt70bm1xmQic/c1CQnNenV7Wh3iHc+mCCE1MYlxGPVSdHth1gz5FydtabyJ2zgNljQgk1aj/4/sonpsLuMuF1NlFd9Cavr3mSzoVPc9vssUywtlFV9C5r/m8t+46/w4FqOwNBWSRMupqZc5fy3bsy6d38IptfWcebe49yqMZDYGwB07LmcN3t13LtTdmMGzrMC99fzZPvHKK4W0twfBYTCxZy+713Mj89kjiZI5deM9W73mXjI+vY0XCIwvca6dGkkZY+junjLcPPkZHYWU1z7UkqmjV0hX+Tx9d8gesLkokenv7p8iI8cn43HmT9axvYt/89yup7KbdbKVj5VW67Lp/8cdGEB56ztegs5vj+t/nFs3toP7qJozUuRMx40nNzSLN4Tz2lrayJHl0UMXOWctsXVrJgTDhRZugufoMdhet5pHMlv/76XCYmho7SxuiflC/slNE3UPKyePkP94gZ974g9rf2C5vHN9Yj3C676GkuFYU/ThAFYxH5t3xbPLJ3QPTZHMLldQvnkF20HXxO/Pk7BUJvChaLfvam2Hi0TdgHncLt9QrhHRJDfcfFuu/9m/jZt+4XT+xqEL19NjHk9giPnDw65PdyDon+hhJx8ulVIi8jQqRe/23xw9fKRF9f39+G3p5mUbrlYfG7f0kTpuufEM8Vt4ju4Xf49PUJe/cu8cztnxOrH3tVFJY0iLqit8SL984QyfFRIu9rD4mndjcPP/cMHpdwOzpFZ8tusfZrySI/capY+sU/iNcq/v69eroqxO7n/kvcMztFRMTeKX67vV5U27zypY2i+sDT4sdzJon71xaLohbX8JsqI0Hts7sMCGcj5UeOUXWsl5lzZpMcZCLw1JLRoNUFYg4OJyxMi8Egm6F6I2aLhWCzAV2AFr3RhCbAi8fRJ+v0AITRgslixhSoRysf45XjqvdSnTiV0DnLuS43lpBgM0atRr7u1H8/CuT30svPZ3DT1bgPt7OPxLgY0lNTCA6WzbvhISQ0muTUHCbPWIAm3IJZp+FCClGbrMpKXr2HF+V8bbINjzxPnp52uop28qRxFkGZ48lKiyUuPYuCVTfz2TAvg29vYs+Ww5QMDL/gfRqdXGZaLDob7UWCQUMq4RlppCb9/XuFhieTkBhOUmITvV0b2VvaREu3U740kghZBS6+KoKt2/dxqLIRuVSVEaLC7jIgOk5wvMpO2WAqC6bHEGyUQTQ8TSaYzDAdhsBYNFoTNoeDXvsZRy7stVQWl7L/3RZkMUhlj40+p+v0NK8Dl72BXW93oo/IIHNKJrFBl0u7aBDHYAsni1oZHEgiOiyOuIhzo0yGmykUa3wKmshwzHo5H4annA/nQDMdVYVUdDqxD8+S8+Xob6epeCMVpTs4UN5AnXwPnTmCiHGzmDU1GPPQYU6ePE5Ji3v4FWdwDuJtraaszYUtKo6opCgSz/pqXrweL26HbOLShsPpwePxbXkMmEJjmTB/FmHFh2g60UBD/+lXKBdPhd1loL/2COW9LpoicshNkCu09uySK0BWcJbgZHQ6C4MOJ32298sUL73VB6gtr6Sux4RslVLXZ2fA5Tk11TPUTV/VDt5tjSUpPolcWV1cNtwDOLqbKC2Sea2ZiDU6nshQOd4rU2mghvcqGqnvsMkA98gK1E18jJUgg6yaTr/6vAjhwu3px+2Vb3uBe6a9HqcMvGYCSzZz9FgVFa1DckEEojUmED9Bjzm0ic6+RuraPnjI3DMoNzjVJRx3OghMjSU1IRLr8LRTnO10NnZRXR2MJmISY+Nk5W72HaWQlbs5mPAJ05niLKWvoYHqjgtMaeUfUmE36jw0Vx2hxdODSI4nRubcuQslQKMhJCQSvWzCCo8bj1uuAMKLcHRScqgEu0FPxpI8dHKFDnC58Xpl5SBX9MGORk5u38TAzGwSxkYTdyFl0adM2Puxy5W5qDaAwcQMopIjibYI+Z16GTr5Bs++fYi9FZ04ZUr5jnleO8ZKlEk//OpPn0FWcbFj5zMpfSoZ0RGEndqv4Bv06PROArRaGaICp8vXUeRMAoe9l/ryIk66BUlymabHRQ5P83Ez1Hqck8cbONaUSdzsbzAnRzaRw4aXus5IgDWRMWOa6BpspKbt3Hay8kmpsBtVvqNz3bQ3ypXaAeHWEHzHIj9qoQy5PQw43DL0HDgqXmXbwFicyfNZlmMlUoactq6V/oFB7EONtNdU8/amHJZNS2ZsvGn4HS4P7v4eOhrK2Srkd8lNIzU+knhZ1Q11N1P89ku4jFqMoXJ+xE0hfdl9/OIzYxgbeek6nRiiMhnz2dWs2bKex7/zGZZlhsixQ3JD00RNqVwG9gSio8YwRn7uszkZsrdSX1GEW5NATFwcEdb3571c3qKFI1v/SmFRNX1TbuT+n9/C3NRQwk8XdpKM9oAIwmO0VNm7KevsHR6vXCwVdqPK19zsor1aNnfsJlIjQj60X1WARktYVCqGQAutg06q+rpxyTB7d+17ckWKJXPaRKLDIxkvG3kGWW24ZFXXcrKE6pOliJs+R4YM0dDROxrxoQZ8fQqrNuLyetCVv82bT/43/3nP3dx77/f5t2dtBJgiiLEGnfruWn0gJv0lPqASoEVjMGMJDsIcqEevDUD0tzNYXMiWfXYCxl/HzAVzmZl47ofqo7+tkeLX7TLsTNQWbebVP/2O36x+gAdWr+Ynq59j50A+c7/8Yx781edZnmog1BhwxnKX1asMu6hkHUZHD/aOHnWQYoSosBtVvh1JdlwdHrR2LWbD3zbvZ/GtCvpAMxqtDofHS29PG11lO9jsnUBscgoT4kNONXFD5Ntp+m24u8opq++hpD+JWQvSiLTIlXX4vU6RAeOs2sxbj/2Rvz6/g6Pdw+M/hsvWTeuhl9nw+lrWvvhRw0usW7eJouY+ej5k/z300NPeQGVRr2xuZzNr5kIWzp/HzGk5TMxMwimmyopJrvBhHz4/zmanreYERTu2s33b2cPOg2UcbtBSe2AHB3Zs/cD0rSXN1PSc5z6xoVaaj+/mpaffoXPczVx78+dYMTuduHML5oEO+ptqKWqVzfOUGeTm5TFHboxyc3PlMIm83GnkFyxm3rzZFExOIloWq7qz8tK3tA0YzQFoPU5csopXJ9KMDBV2o85DgEMQ8FHrnK8LiaxugmWVY7Z10i2rtl3vnsSZO5fElDiigvTojEaCZIgFNDbJlXsP5W0uHIn55CfqMJ29NkkC4ZRB1NZOV2cfQ6ePZ3wsITy4h2Tl0tdLb2/PRwy+6QOnmtyeDzsw4Oqgu6mN8hOy0R49mzlLV3DDjatY9Vn592cWMGveAiYlhRJxXq1WgcfpYNA2wMDA2YNtUI53BeActGG32T443eHC+aEf8Byefjpls/TonsMU2VOYectXWHX1FKYkys9/up/w37i7fQcfqjimldX4xALmzF/E8iVXsXTJ1Vy9ZCkrlsqgmzKOtJhgDOdxtMX36c5z8SgfZ7i/nTIqHHI4Il66aa64++Zvip9v+pBOqj7uQSFqXhA/WJonUmPHipi5t4k7/vURsaGyR3Q4fU9oEBWFD4p70Ilw5oiCOTeK/3r0L6Kw8dSrz+DruDokbJ1NorHuhKioaRKtXfYzxlWJ+oYG0djcJlqaW0VHc51o6ugXA0Nu+cqR423fIzY+cKeYHZIsTJ/5g1hb3CJ6fJ2obQ2iu/Id8UzhMdHcZTv95IvQWfqS2Py/yeL+LW2irGt45AWR39ozJHobDogtf/i1+O1//Eg8ua9J9Mn54eyuEa2tTaK+91Tv72Ee0VO8VvzluzOF3hIpVjz4rthde+Hfw+seEkcenSiu++rXxZf+eFC0DI9XLo6q7EaVnP0ijIhJspmZ6GHg/f5x5/JVdsZAQrR6LK0d6PsHibr2BvKig7AOt099RYIZt2wC7aEtOoeItHxmx52e9ndeBtoqOfDsT7jvrtu5+7HXeelEN7b2Kg6t+Sk/+MbNfOu73+YHv3yI3/zqIZ78xTf48VM72FvZM6LVhbO9mdqWOg4G6giZmElSiIkQ3y/RFE9o6kJuWTiBmLDL4ICKrGSFo5zNT77CgXYrcV/8D+7IiyXIqKVpzxMUFq5jfcWZy2yIrrYq6qur0ZrHMz41ibBg8/C08+WV1ZwT55AXvcVMqJw3YcNTlIujwm5UydkfEIwp1IzN46C5vWd4/IfzNUY1sTnEz1jGilmRBJs0p8ZBIPqQYMKm6THFLWLB3Nnk5yYQeG7rtfMETaV7eaImh/SIAdz2Vmoby6ltreGlmkmMs9roHjLiSMpj6R1LuSpLT/GW4xRVttMx/BYjoav1BB3Nxwk0GpiXlU64xXT6e8hQD9Do0Gvl9/IF/GjyymZ45xHeWH0/22s7qLH1UXfoLV5a+1deeP6PvPBiI1VVgVhDz9wbKpuwda3UFBnQGGcwJkGG+IVmndxg4W2nt81DiM5CjAzLs/a3Kp+YCrtR5Vuhg7HGpKJ16Wiva6NdllAfqKJ8K35IGKF6K7nZeSy6ehETI/UY/9b5WI/WV/klGshcvoIFM8YzIco4HIRnMIQSFpfMooJILPUm4rWRxEfGExkdz1WLxxDpcWONTGTs+CyyE8Mwuuvp9wzgkBXOxXLbu+jcL0PimUd55JmtFO5vxznQS0XhC/zlT4/z6s4iynvOY//ZJTLYWcPJzQ/zp1d2sHH3TrZveoWX//w4jz76Bzk8wfNbmqjtMWINduF21HD4r2v4y0OP86c39rK9UW5I+kvY/coa3thVRnHrBcw/4US4WmkuDiI8IJaEyDC1ko4QNR9HlS+ODESlZBETYCagqlFWEDLsztnp7esGgTmZnMXX8rmbZFVXMIZwueT+vvCMmK1jyVp6Gzd/fjH546KI+LBywBJDVFIGK8fbONmWSJQ1lfFpqURHJ3L1VBhodstxcWSmWDHZ26k6VoUlIUyu0IGYPvChLpDwnb87gM3Wjzc0i8xZN7Nq5XVMiXD6zuvCPuTEdT4HCy4R4fXN4BASpy9nRv40pmWPZdyYNNJODZnkzp/NpMnpJAfJzyxcOG02bH0azCmTmXbjDdx6QybxOhdehwvXhcw61xCiXYZnUyKmsCRS4oKGJygXawQu8eRb2IP0dvTS1y9Lf5cTp1s2R/SBGEzBhIZaCAn0yi1lBz22QTld/uiFDq1WrkCBFsJiw7Ho3bj6eujukIPD11fBd4K7maCwMMLCQzBfyDlCV6K2Xaz9/QY2H9Ux89c/YNVYPUH6D9RlI8LbU03P3sdY8mvBwpuu4nMrppEhq5Og2tf41i0PE/T5+7j2C/PJaNvAE1+6h+OrHmPl3BksyY4mKjbkgk7XGm29VYWc2PrfHMxex7UTrKT6Tke7rAk8cvn07vo91z1oYvmdN3L7yqmkqnbsiLj4yk7IcHIUs+GJX/P921dw/VV55E2fwYxrvsgN9z7FU1sOc7J+H+v/52t8/cbZLJwtp+cvYf7Su7nr7qcprOmmw1HF8fUP88vPLiEvb5ocFnPNTffy82c2cdgfelRG5TJ5ppbs8Qd480Adg86RPBxwtkFbDxWl72LISiOg9A1K336RwnI7AzWlHLLMgdhUIjXd9Na2sbkimwnWTvZuP8y6jZVcaX35Q5LnkXfLWm7ODSX+iiiQvPR3N7K38Fli5k1h8vhkUlTQjRjtT6Xhf38yAb5yP4zYtAmkWLtkCb6bfbVGlt/7IHd/fgnLpyQTHxFHUuY0csJbOF7ZwmB8Psvv+g4/uXMu2akRhBtDCI9LJD4lDuOJeqZ84yd85Ss3c+P8iYyxmjFefCRf3gJ0WEw6vL2DnHjtAGEz87GGBH4qFa0Y7MJRt4f1h1sYCM0hc8pc5qa46Dz0DIXdeRQsmMKMcQY8HU0c2lZFpdNA5EQ5blYOWdHGK2q/h+8CChqdbGHoNOg0srXx6RTLI6engvqj+3lkYwyLb11J/vhYrJfRj184+7HVF7P7Lw/y4PoO2jXBJKeEcXmdiPiPXXzY+fY7BRixhIaj7S+moXQzm8tMzL3j+yzLSyMj0ohe/uBMIWGI2rfYtL+SrtBcZiy/kVsL4jHrtWgD9GiH2ujraWbb4ERuvGU5syelkWC1/PMH3SlyZQwMxmQ0YLJVsqE2lOjYMKLDA0f8SJxGq8cQGk9MygSmTp3O5AmppESY0FkiSJowk+k5cqMTZiHQbCV2bAZZebnkT5tAVqqVUMPlnhbn8KWb3BhrfEd5L/eP7u6k9sgBDu2uxDnjZq6ZNZbkMLnuXPTn9rUSBih7ZyM1A14cIVGEX+iParCGY7u2sXPLdopOHGf/My+yoTuR2KwM8sZHnTqf+0owglHiuyCjGYOs0oT80z84hNMz3BzzDOHtr+bI3ho6Wn3XW3PTanOcnubj6ae1slE2r2yEXH092WlRRPjb9aiNEUSmT2b+DQtJkptKjddz6tJEI01jCickcxk3XLeClXOzyUoIxmiJJGbyKlYuySU7IYRAXTChCRO46rbPsOqGBczLiiXecoUF3ZXG68QVEExgXDbXrsgjTW6ATCOydvp2ydup37eL8vI6Ws69SMv58B1cOrUvfgiHx0bPsQZ6B+S/hydfKUa0btIbrBhNib6zMmjv6WPI4ZRjBZ7BDnrKN7Lr3Q5aWt10DDpOXWTyfa6+Sk5UdHK8IZlb5yUTFuSfOyo05mis46/hvi/lkZcUguFTCDvlMqUJJzlvLotuv5H8CEZ8F4bXd06gy0vAJ/lNmccwaclN3HrXl1l1zVTG6DWX8KZHI2dEw85kCiIkNPLUxkR4ZNDJLYKvjO5ra+Lwa28Qd00+IemJp598hu5j22hwNWFfMJMZIXLe+kXT9R/wtbcMQZiNellhDY9T/vn59i0aA7FcabsKriAjHCu+Kzacyjr6Bn0nWcumWOcJ6muP8ZLuNuZNS2ditImgXhuu5g66fOVx3xEO7dfjtqezvCDqgx1hFUVRRsCIhp2vX505JOr0vRD67PQ5umk+UU7l4UZSZi8iOT2VdIuFaLcXr2zi2rxD1O3bQrMliuDMSWSHjX7z1dZcwckDm9lUuOnChi3vUVbXhX34fRRFubyM7H1jm/aw+eUnuOo7L8K//pGnPxdCXGsdR6r0LPrqF8hxbuTxu/+Xpw6bMN7wZZ794TgO/vk13BOuJmfadPKiR3pHhVuGai82fSgGrQ7jeZSNtqZymuprqb7QU5d00TLMk0hOieDjToc8dOgQhw8fHn6kKB9Po9GwcuVKIiIihsecy4lzsI/Wqmb6PaePwZ7m66Tfzc5H/kxXRgGJM+cy1XfhwzPozKGERCUQH6L9mKPWsjVWsYWnpn+Fx3K/yY333sa9K7Mu0X18L97Ihl3LPra98keuvec5hm79DT+b2E1YWBztcYv56bJ4Oc+38uhXf8Uft7lwz13O6m8Gsv5AJtdcPZXZk+JG+BC2G5etnY6i7VQlLCA5Ooqky+RUjMcee4wnnnhi+JGifDytVsuaNWsYN27c8Jhz2RjoquO9jYdodAscf1urfbHXy3uvbqA7OZfo7MlkGc8+SmGOSiExO59pSUbOudfTOa7ssBvZ69l1vScOPP1tMV2nF4F5S8WMJf8u7n/4LXGgzzfRLYcj4vnblopFZIjoyJXijluvFw9srxUnenzTR1qHaD3xvPi/PK245VcvizdKeofHK4o/8d1ou1lsvO/b4rnnNog97afHfjLtorP8BfFAaJAYO/c+8b1XjovW4SlXghHoVHwGdycdVaXsXreL+h4nYxbdwOJlC5iXFoQ+wLepaaPi5U0UHS2mOsJC0IJv8eWrJpARYUT/gb2HbvpqD3Ko8K/8z4vH5RblHV7aWUdlSxsW5xEeXP0HXvyfbZQ7Q9EnmDE0H+D5HzxEWWgm5rBQrN52OkuO8sKjDaTdcgfTcpOIt3z8Lsq+qkMc37uFTXveo/i94vMfSrpx6IyyORB8QTdyVpRPl6+Ks1O5ZTf26DGEj80g8YIvO/U+O4Nd1Rx54nUOxuSTVZBLgX92Kvbx9VQPkMGmRxs/g0nTJzIxI2K4K4msj4UFc4IeS0oUUUl5LFo6kxSriQ/rP+xqOMjerXt4fqeb9Nl5ZOaNIaz8CJVr/h+bNr+KJyYSb/l7tFbV09bSSn/lMba8VUdrv4ueplJKdxXy9rYD7DaF0N9cTH1dHbXdH3pDhLMYw+OJz5jE5MmTL2yYmEaiCjpFuWyNbNgZDOhMwVj14UxZcgOzpmSQ9v6ldE91KrFgitYTM3k8E+ddw4op0YSZfHcFPZOvAuym/uA77D5wglJ9FsvnTyE3N4PkwUZslXWc7I8kPz0YuyUUzAaMsqLsaqziQF8MRosBUyAM9jTS3HyUxpypxMYGER54fqcMGcPjiE2XIZ17gUNOCvGRQRd0x3pFuSI4W6k9uodtr29gw8bd7HO56W0+TMnOt3njlS1sfqeMZqcH3ykEl7ORDTtjCMFxmcyYuYA7bpxPXloUwWf+DwFmwhMzmXrVfJZdX8DEYDh17+GzyLBz1XF0936qW/uJz5/IOJkgRvsAg64BHNETCcpcRU7/XoqjJ6BNTSbK2E1zWzXVyeOwWgOJTU0lMj6SqEAbUQXXM3fx1czKSSX5vO5WpYwG92AfvS2y+i47QZkcTpQcpayynvqmNrrl+BMtA9g/xavBKB/B2U59yUF2v7WVbXsqacydxBhrF7by3Wxe/y47tlbQJpfNed6nbdSM7NHYkeA766L9HR759//liHMCeT9czV1TDYiyNfzyvrcpN0xi4dfmkbRhNt/1/J47V61gScAGtq5bzfc8D/HS1/MpGNNH6foXWPd4IRV3/JlfLokkPUImpiztzqO4Uy41ucw7jm/n4Mb1vLWpiDK5lMRAC5q0a8hOH0NBUBmPilt54KYspiapi1leGN+um04Kf7SajqxFjFmyjPxz7+vtJ0a2shsJvjQKCpFNYT1RugCMRh1COCjbv4OamESC5k0iJ7abrqYA9KZQgow9DLW10F7qYGpYDVt/u47db2znWFU3pY0RTE0No3H7n9lx8ABHP/oWD8ooadv5EI8/tZF1zRNZ8MvH+f3Dj/Hon57nvmvCMJX9ifuf3UFyQjzmwCvxjMzR5tshHsGUL93FwsX5TPDju/eM7NHYkaIxoR1qocvjpqLDTmDXfrYWa4meOo+FCyaTFSKf0lnB7oYwjLYmehqrKam309rvITBhMtnjA9F2tVL6Xqt87KLXFUJM4ljGxlqxqJbs5cM1AE3befp3b1HOOMZfdTXXFIwhOcqK1RopN3jddNa0c+SIhaV33sTk+EBC1LmjF8g3vzQYg0MwWwIxygLCX+fgZRh2clFoLARZLejDrbLlaSA62IsnbBrTp+cweWwUQRojQWHhCF0U8eFBWKNiiUidQGJ0PDnz5pKbHkWU2YIlLJL4lCAiU/MYn5JA4ll3glJGm8feQdfBJ/ntUy0YJi1g8YoCJlvfXxllVR8wQGe7oLo5nmVfKiA1RPch+3iV86HRatD4LmA6/NgfXX777BS/MdRZSdlfbudffqsn5tp/4YtfW8my9FCCZaKd6o3UV0ZRUS1vH7Zw6135xBl16mi38omp7aQyqjQaHZqAIgoL3+TxZ3eyq7Kf3kEHQ04Xbksa2TPn8q2vTCXZoFVBp1wUVdkpo0YMdeI4+SI//PeHeflIC236ICLDzZgNGpKyl7D01ltZtngaEyy+UFTbZeXiXJ4HKBS/4Lv7vy4oltikTDLGJpEUFoB2sIXm+gpq65uoaNPhCIwhKyeWoIBTe3MV5RNTlZ0yKrweLx45BBh0aD0OepsbaKwuo6q6lIqaEvasX8/+1gmkX3MnP3/g8+TL6u6jr8ihKB9NhZ0yCoboa+6mvaYf89QMIgwB/L1HiVu2b9so/Oln+e1aNwM5X+FHj97FwkjQqbBTLoLaEaJceqKJ6h3v8NJ/rmFfmwy0s67PoJObYNm0TTUQmhRBcGQ0CTLoNCrolIukwk659Lo7aW9p5qhtCNmKPecCDb4b9Pku5T+IIS6DifOzGSunqx+qcrHUb0i55Abbamlo3Mfejt28vG4PtR39w/cgdeLoq6fkxafYaJ9M/MyrWD47SV02SxkRap+dcol5aN7+OG++s5W1NdFMSU5i3JgITEHBeDUaAtx9aNsbqQ3LY+qMqeSPjydUbZKVEaDCTrnEXNTveoXylj464+cwvmk97x6opNKmY0BrwRIcxoxFK5g9NZW4UBPqBD9lpKiwUxTFL6gGgqIofkGFnaIofkGFnaIofkGFnaIofkGFnaIofkGFnaIofkGFnaIofkGFnaIofkGFnaIofkGFnaIofkGFnaIofkGFnaIofkGFnaIofkGFnaIofkGFnaIofkGFnaIofkGFnaIofkGFnaIofkGFnaIofkGFnaIofkGFnaIofkGFnaIofkGFnaIofkGFnaIofkGFnaIofkGFnaIofkGFnaIofkGFnaIofkGFnaIofkGFnaIofgD+P8JcUwjE5VQRAAAAAElFTkSuQmCC)"
      ],
      "metadata": {
        "id": "tLXasE3O0ICP"
      }
    },
    {
      "cell_type": "code",
      "source": [
        "# формула расчета выходного кол-ва слоев\n",
        "# Wout = (Win - kernel_size + 2padding)/stride + 1 \n",
        "# padding = ((Wout - 1)*stride - Win + kernel_size)/2\n",
        "Wout = 6\n",
        "stride = 1\n",
        "Win = 6\n",
        "kernel_size = 3\n",
        "padding = ((Wout - 1)*stride - Win + kernel_size)/2\n",
        "print(padding)"
      ],
      "metadata": {
        "colab": {
          "base_uri": "https://localhost:8080/"
        },
        "id": "aja7fTwGIXH2",
        "outputId": "1a6f6631-a893-4274-bb2e-6cbebecc1380"
      },
      "execution_count": null,
      "outputs": [
        {
          "output_type": "stream",
          "name": "stdout",
          "text": [
            "1.0\n"
          ]
        }
      ]
    },
    {
      "cell_type": "markdown",
      "source": [
        "# Обучение"
      ],
      "metadata": {
        "id": "0y619OQRGrMe"
      }
    },
    {
      "cell_type": "code",
      "source": [
        "criterion = nn.CrossEntropyLoss()\n",
        "optimizer = optim.Adam(net.parameters(), lr=0.001)\n",
        "\n",
        "StartTraining(net, trainloader, valloader, optimizer, criterion, 5)"
      ],
      "metadata": {
        "colab": {
          "base_uri": "https://localhost:8080/",
          "height": 900
        },
        "id": "5-noNIRIw9DL",
        "outputId": "8d28f595-9430-4b51-fcb6-ab897f7723b2"
      },
      "execution_count": null,
      "outputs": [
        {
          "output_type": "stream",
          "name": "stdout",
          "text": [
            "[1, 2000] loss: 1.875\n",
            "[1, 4000] loss: 1.600\n",
            "[1, 6000] loss: 1.458\n",
            "[1, 8000] loss: 1.403\n",
            "[1, 10000] loss: 1.311\n",
            "[1, 12000] loss: 1.253\n",
            "[1 epoch] val_loss: 1.188 acc: 58.199999999999996%\n",
            "[2, 2000] loss: 1.181\n",
            "[2, 4000] loss: 1.155\n",
            "[2, 6000] loss: 1.138\n",
            "[2, 8000] loss: 1.116\n",
            "[2, 10000] loss: 1.080\n",
            "[2, 12000] loss: 1.070\n",
            "[2 epoch] val_loss: 1.096 acc: 61.660000000000004%\n",
            "[3, 2000] loss: 0.993\n",
            "[3, 4000] loss: 0.993\n",
            "[3, 6000] loss: 0.968\n",
            "[3, 8000] loss: 0.983\n",
            "[3, 10000] loss: 0.974\n",
            "[3, 12000] loss: 0.967\n",
            "[3 epoch] val_loss: 1.063 acc: 63.72%\n",
            "[4, 2000] loss: 0.902\n",
            "[4, 4000] loss: 0.895\n",
            "[4, 6000] loss: 0.887\n",
            "[4, 8000] loss: 0.909\n",
            "[4, 10000] loss: 0.893\n",
            "[4, 12000] loss: 0.906\n",
            "[4 epoch] val_loss: 0.961 acc: 67.45%\n",
            "[5, 2000] loss: 0.815\n",
            "[5, 4000] loss: 0.832\n",
            "[5, 6000] loss: 0.826\n",
            "[5, 8000] loss: 0.824\n",
            "[5, 10000] loss: 0.832\n",
            "[5, 12000] loss: 0.852\n",
            "[5 epoch] val_loss: 0.941 acc: 67.67999999999999%\n"
          ]
        },
        {
          "output_type": "display_data",
          "data": {
            "image/png": "[encoded data removed]",
            "text/plain": [
              "<Figure size 432x288 with 1 Axes>"
            ]
          },
          "metadata": {
            "needs_background": "light"
          }
        }
      ]
    },
    {
      "cell_type": "code",
      "source": [
        "torch.save(net, './CIFAR10_3_acc67.67.pt') "
      ],
      "metadata": {
        "id": "0KlljH8qBttq"
      },
      "execution_count": null,
      "outputs": []
    },
    {
      "cell_type": "code",
      "source": [
        "#net = torch.load('./CIFAR10_2(dropout)_acc63.65.pt').to(device)\n",
        "\n",
        "criterion = nn.CrossEntropyLoss()\n",
        "optimizer = optim.Adam(net.parameters(), lr=0.0001)\n",
        "\n",
        "StartTraining(net, trainloader, valloader, optimizer, criterion, 6)"
      ],
      "metadata": {
        "colab": {
          "base_uri": "https://localhost:8080/",
          "height": 1000
        },
        "id": "dDT4i2asCBq2",
        "outputId": "5a14848a-1b7b-4299-f9f9-14edbef9c667"
      },
      "execution_count": null,
      "outputs": [
        {
          "output_type": "stream",
          "name": "stdout",
          "text": [
            "[1, 2000] loss: 0.689\n",
            "[1, 4000] loss: 0.658\n",
            "[1, 6000] loss: 0.662\n",
            "[1, 8000] loss: 0.656\n",
            "[1, 10000] loss: 0.636\n",
            "[1, 12000] loss: 0.638\n",
            "[1 epoch] val_loss: 0.880 acc: 70.73%\n",
            "[2, 2000] loss: 0.624\n",
            "[2, 4000] loss: 0.623\n",
            "[2, 6000] loss: 0.606\n",
            "[2, 8000] loss: 0.618\n",
            "[2, 10000] loss: 0.619\n",
            "[2, 12000] loss: 0.606\n",
            "[2 epoch] val_loss: 0.883 acc: 70.8%\n",
            "[3, 2000] loss: 0.569\n",
            "[3, 4000] loss: 0.603\n",
            "[3, 6000] loss: 0.578\n",
            "[3, 8000] loss: 0.601\n",
            "[3, 10000] loss: 0.600\n",
            "[3, 12000] loss: 0.611\n",
            "[3 epoch] val_loss: 0.882 acc: 70.76%\n",
            "[4, 2000] loss: 0.580\n",
            "[4, 4000] loss: 0.585\n",
            "[4, 6000] loss: 0.570\n",
            "[4, 8000] loss: 0.593\n",
            "[4, 10000] loss: 0.561\n",
            "[4, 12000] loss: 0.588\n",
            "[4 epoch] val_loss: 0.893 acc: 70.77%\n",
            "[5, 2000] loss: 0.556\n",
            "[5, 4000] loss: 0.573\n",
            "[5, 6000] loss: 0.560\n",
            "[5, 8000] loss: 0.568\n",
            "[5, 10000] loss: 0.564\n",
            "[5, 12000] loss: 0.562\n",
            "[5 epoch] val_loss: 0.898 acc: 70.77%\n",
            "[6, 2000] loss: 0.543\n",
            "[6, 4000] loss: 0.566\n",
            "[6, 6000] loss: 0.541\n",
            "[6, 8000] loss: 0.540\n",
            "[6, 10000] loss: 0.562\n",
            "[6, 12000] loss: 0.565\n",
            "[6 epoch] val_loss: 0.903 acc: 70.78%\n"
          ]
        },
        {
          "output_type": "display_data",
          "data": {
            "image/png": "[encoded data removed]",
            "text/plain": [
              "<Figure size 432x288 with 1 Axes>"
            ]
          },
          "metadata": {
            "needs_background": "light"
          }
        }
      ]
    },
    {
      "cell_type": "code",
      "source": [
        "torch.save(net, './CIFAR10_3.2_acc70.78.pt') "
      ],
      "metadata": {
        "id": "GFkBa9RuH4CI"
      },
      "execution_count": null,
      "outputs": []
    },
    {
      "cell_type": "code",
      "source": [
        "net = torch.load('./CIFAR10_3.2_acc70.78.pt').to(device)\n",
        "\n",
        "criterion = nn.CrossEntropyLoss()\n",
        "optimizer = optim.Adam(net.parameters(), lr=0.000001)\n",
        "\n",
        "StartTraining(net, trainloader, valloader, optimizer, criterion, 4)"
      ],
      "metadata": {
        "colab": {
          "base_uri": "https://localhost:8080/",
          "height": 774
        },
        "id": "nIsPEf-VQ12t",
        "outputId": "2306f8ea-2d49-450f-be4d-da8419467f23"
      },
      "execution_count": null,
      "outputs": [
        {
          "output_type": "stream",
          "name": "stdout",
          "text": [
            "[1, 2000] loss: 0.508\n",
            "[1, 4000] loss: 0.529\n",
            "[1, 6000] loss: 0.510\n",
            "[1, 8000] loss: 0.543\n",
            "[1, 10000] loss: 0.538\n",
            "[1, 12000] loss: 0.511\n",
            "[1 epoch] val_loss: 0.899 acc: 71.00999999999999%\n",
            "[2, 2000] loss: 0.521\n",
            "[2, 4000] loss: 0.514\n",
            "[2, 6000] loss: 0.519\n",
            "[2, 8000] loss: 0.521\n",
            "[2, 10000] loss: 0.542\n",
            "[2, 12000] loss: 0.519\n",
            "[2 epoch] val_loss: 0.898 acc: 71.09%\n",
            "[3, 2000] loss: 0.519\n",
            "[3, 4000] loss: 0.522\n",
            "[3, 6000] loss: 0.525\n",
            "[3, 8000] loss: 0.517\n",
            "[3, 10000] loss: 0.533\n",
            "[3, 12000] loss: 0.529\n",
            "[3 epoch] val_loss: 0.898 acc: 71.09%\n",
            "[4, 2000] loss: 0.526\n",
            "[4, 4000] loss: 0.521\n",
            "[4, 6000] loss: 0.519\n",
            "[4, 8000] loss: 0.528\n",
            "[4, 10000] loss: 0.527\n",
            "[4, 12000] loss: 0.512\n",
            "[4 epoch] val_loss: 0.898 acc: 71.09%\n"
          ]
        },
        {
          "output_type": "display_data",
          "data": {
            "image/png": "[encoded data removed]",
            "text/plain": [
              "<Figure size 432x288 with 1 Axes>"
            ]
          },
          "metadata": {
            "needs_background": "light"
          }
        }
      ]
    },
    {
      "cell_type": "code",
      "source": [
        "torch.save(net, './CIFAR10_3.3_acc71.09.pt') "
      ],
      "metadata": {
        "id": "_KB2T8LVZO1R"
      },
      "execution_count": null,
      "outputs": []
    },
    {
      "cell_type": "markdown",
      "source": [
        "# Тестирование"
      ],
      "metadata": {
        "id": "YYAEG1psHiEn"
      }
    },
    {
      "cell_type": "code",
      "source": [
        "dataiter = iter(valloader)\n",
        "images, labels = dataiter.next()\n",
        "\n",
        "# print images\n",
        "imshow(torchvision.utils.make_grid(images))\n",
        "print('GroundTruth: ', ' '.join('%5s' % classes[labels[j]] for j in range(4)))"
      ],
      "metadata": {
        "colab": {
          "base_uri": "https://localhost:8080/",
          "height": 213
        },
        "id": "hCDdm4r7G8tW",
        "outputId": "f3b8273d-4127-4a1a-bec0-b23e3c3ba074"
      },
      "execution_count": null,
      "outputs": [
        {
          "output_type": "display_data",
          "data": {
            "image/png": "[encoded data removed]",
            "text/plain": [
              "<Figure size 720x432 with 1 Axes>"
            ]
          },
          "metadata": {
            "needs_background": "light"
          }
        },
        {
          "output_type": "stream",
          "name": "stdout",
          "text": [
            "GroundTruth:    cat  ship  ship plane\n"
          ]
        }
      ]
    },
    {
      "cell_type": "code",
      "source": [
        "outputs = net(images.to(device))\n",
        "_, predicted = torch.max(outputs, 1)\n",
        "\n",
        "print('Predicted: ', ' '.join('%5s' % classes[predicted[j]] for j in range(4)))"
      ],
      "metadata": {
        "colab": {
          "base_uri": "https://localhost:8080/"
        },
        "id": "M0tHp4a7JrYu",
        "outputId": "0072d9ec-6191-4ce3-d3fb-f655f32ea06f"
      },
      "execution_count": null,
      "outputs": [
        {
          "output_type": "stream",
          "name": "stdout",
          "text": [
            "Predicted:    cat  ship   cat plane\n"
          ]
        }
      ]
    },
    {
      "cell_type": "code",
      "source": [
        "correct = 0\n",
        "total = 0\n",
        "# since we're not training, we don't need to calculate the gradients for our outputs\n",
        "with torch.no_grad():\n",
        "    for data in valloader:\n",
        "        #images, labels = data\n",
        "        images, labels = data[0].to(device), data[1].to(device)\n",
        "\n",
        "        # calculate outputs by running images through the network\n",
        "        outputs = net(images)\n",
        "        \n",
        "        # the class with the highest energy is what we choose as prediction\n",
        "        _, predicted = torch.max(outputs.data, 1)\n",
        "        total += labels.size(0)\n",
        "        correct += (predicted == labels).sum().item()\n",
        "\n",
        "print('Accuracy of the network on the 10000 test images: %d %%' % (\n",
        "    100 * correct / total))"
      ],
      "metadata": {
        "colab": {
          "base_uri": "https://localhost:8080/"
        },
        "id": "yiIs6sZ9J8nL",
        "outputId": "c82ed008-5965-45f0-e781-c8729288f153"
      },
      "execution_count": null,
      "outputs": [
        {
          "output_type": "stream",
          "name": "stdout",
          "text": [
            "Accuracy of the network on the 10000 test images: 71 %\n"
          ]
        }
      ]
    },
    {
      "cell_type": "code",
      "source": [
        "# prepare to count predictions for each class\n",
        "correct_pred = {classname: 0 for classname in classes}\n",
        "total_pred = {classname: 0 for classname in classes}\n",
        "\n",
        "# again no gradients needed\n",
        "with torch.no_grad():\n",
        "    for data in valloader:\n",
        "\n",
        "        #images, labels = data\n",
        "        images, labels = data[0].to(device), data[1].to(device)\n",
        "        outputs = net(images)\n",
        "        _, predictions = torch.max(outputs, 1)\n",
        "\n",
        "        # collect the correct predictions for each class\n",
        "        for label, prediction in zip(labels, predictions):\n",
        "            if label == prediction:\n",
        "                correct_pred[classes[label]] += 1\n",
        "            total_pred[classes[label]] += 1\n",
        "\n",
        "\n",
        "# print accuracy for each class\n",
        "for classname, correct_count in correct_pred.items():\n",
        "    accuracy = 100 * float(correct_count) / total_pred[classname]\n",
        "    print(f\"Accuracy for class {classname:5s} is: {accuracy:.1f} %\")"
      ],
      "metadata": {
        "colab": {
          "base_uri": "https://localhost:8080/"
        },
        "id": "t9CMqAT7LBlh",
        "outputId": "0afbe454-770e-4e5c-cc4e-c3434684e87a"
      },
      "execution_count": null,
      "outputs": [
        {
          "output_type": "stream",
          "name": "stdout",
          "text": [
            "Accuracy for class plane is: 77.8 %\n",
            "Accuracy for class car   is: 82.7 %\n",
            "Accuracy for class bird  is: 58.2 %\n",
            "Accuracy for class cat   is: 49.8 %\n",
            "Accuracy for class deer  is: 69.1 %\n",
            "Accuracy for class dog   is: 58.4 %\n",
            "Accuracy for class frog  is: 78.7 %\n",
            "Accuracy for class horse is: 74.3 %\n",
            "Accuracy for class ship  is: 81.2 %\n",
            "Accuracy for class truck is: 80.7 %\n"
          ]
        }
      ]
    },
    {
      "cell_type": "code",
      "source": [
        ""
      ],
      "metadata": {
        "id": "ypAKAu_Almly"
      },
      "execution_count": null,
      "outputs": []
    }
  ]
}